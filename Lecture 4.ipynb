{
 "cells": [
  {
   "cell_type": "code",
   "execution_count": 39,
   "metadata": {
    "collapsed": true
   },
   "outputs": [],
   "source": [
    "import warnings\n",
    "warnings.filterwarnings('ignore')"
   ]
  },
  {
   "cell_type": "markdown",
   "metadata": {},
   "source": [
    "## Regular expressions\n",
    "Regular expressions are text extraction tools that allow you to match text patterns based on a standardized rulesets. This allows for fast parsing of text. It's super smart."
   ]
  },
  {
   "cell_type": "markdown",
   "metadata": {},
   "source": [
    "To find a four digit number use \\d to look for digits and {4} to find exactly 4 occurrences."
   ]
  },
  {
   "cell_type": "code",
   "execution_count": 40,
   "metadata": {
    "collapsed": false
   },
   "outputs": [
    {
     "name": "stdout",
     "output_type": "stream",
     "text": [
      "1234\n"
     ]
    }
   ],
   "source": [
    "import re\n",
    "\n",
    "pat = r'\\d{4}'\n",
    "text = \"\"\"superTousled try-hard blog Carles, typewriter fap hella salvia fanny pack selvage mlkshk crucifix. \n",
    "Next level retro quinoa post-ironic. Heirloom keffiyeh synth street art meggings, drinking vinegar Schlitz actually raw denim. \n",
    "1234 Normcore freegan post-ironic meggings cred, cardigan yr locavore 3 wolf moon. Bitters ennui ugh superpolaroid, \n",
    "artisan scenester distillery kale chips wolf pork belly keffiyeh. Actually Tumblr twee [[drinking vinegar]], \n",
    "squid pickled cronut banh mi taxidermy deep v 8-bit narwhal Odd Future. Sriracha bicycle rights listicle, keffiyeh typewriter \n",
    "authentic selvage cred selfies. Ugh lo-fi tattooed chambray, DIY Marfa banh mi whatever narwhal jean shorts photo booth keytar \n",
    "listicle. Chambray Truffaut cardigan skateboard, hashtag disrupt next level. Normcore Blue Bottle yr, Odd Future skateboard \n",
    "chillwave iPhone slow-carb sriracha letterpress meditation cronut. IPhone fashion axe Neutra fingerstache tofu gluten-free \n",
    "[[gentrify]], wolf before they sold out pork belly retro Vice skateboard DIY Marfa. Mustache supertaxidermy cliche 9999 fashion \n",
    "axe Pitchfork, iPhone cred literally McSweeney's normcore. Health goth meggings skateboard 90's 3 wolf moon, PBR&B kale chips \n",
    "biodiesel fashion axe. Sartorial crucifix retro, four dollar toast kogi forage swag deep v wayfarers tilde. Synth typewriter \n",
    "messenger bag health goth scenester pour-over. Pour-over Truffaut 90s fashion axe post-ironic, Portland Wes Anderson forage \n",
    "occupy sartorial gentrify hashtag beard kitsch quinoa. Occupy [[hashtag]] street art 3 wolf moon, Echo Park quinoa Tumblr \n",
    "Pitchfork fanny pack High Life. Helvetica banjo gentrify authentic mumblecore, tote bag blog. Scenester +1 American Apparel \n",
    "organic literally, Intelligentsia butcher bitters. Seitan lumbersexual fanny pack organic, letterpress umami ethical wayfarers. \n",
    "Cronut biodiesel Wes Anderson, jean shorts lo-fi keffiyeh Carles. Bushwick health goth chambray gluten-free distillery. \n",
    "Keytar selvage Shoreditch, seitan YOLO tote bag listicle Marfa farm-to-table keffiyeh meditation tilde. Narwhal freegan \n",
    "meditation, Pitchfork XOXO Brooklyn 23456 whatever photo booth pork belly Blue Bottle gluten-free. Semiotics fashion axe 3 \n",
    "wolf moon, selfies brunch skateboard shabby chic organic wayfarers yr whatever kitsch Thundercats tilde bespoke. \n",
    "[[Bicycle|Bicycle(two-wheeled type)]] rights seitan mlkshk Marfa, church-key cray mustache sartorial banh mi food truck \n",
    "chillwave Echo Park bitters. Craft superbeer bespoke street art, slow-carb pop-up Kickstarter typewriter Etsy try-hard \n",
    "[[Pitchfork|Pitchfork Magazine]] aesthetic keytar Tumblr. 8-bit bitters fanny pack, Portland Odd Future yr selvage crucifix \n",
    "narwhal polaroid sriracha Thundercats.\"\"\"\n",
    "match = re.search(pat, text)\n",
    "if match:\n",
    "    print match.group()"
   ]
  },
  {
   "cell_type": "markdown",
   "metadata": {},
   "source": [
    "Let's make a regex for finding any word that begins with super, i.e. any word with preceding whitespace or beginning of the line."
   ]
  },
  {
   "cell_type": "code",
   "execution_count": 41,
   "metadata": {
    "collapsed": false
   },
   "outputs": [
    {
     "name": "stdout",
     "output_type": "stream",
     "text": [
      "superTousled\n",
      "superpolaroid\n",
      "supertaxidermy\n",
      "superbeer\n"
     ]
    }
   ],
   "source": [
    "pat = r'(^|\\s)(super\\w+)'\n",
    "matches = re.findall(pat, text)\n",
    "for match in matches:\n",
    "    print match[1]"
   ]
  },
  {
   "cell_type": "markdown",
   "metadata": {},
   "source": [
    "Next step is finding links formatted as [[link]] or [[link|alternative_link]]"
   ]
  },
  {
   "cell_type": "code",
   "execution_count": 42,
   "metadata": {
    "collapsed": false
   },
   "outputs": [
    {
     "name": "stdout",
     "output_type": "stream",
     "text": [
      "('drinking vinegar', '')\n",
      "('gentrify', '')\n",
      "('hashtag', '')\n",
      "('Bicycle', 'Bicycle(two-wheeled type)')\n",
      "('Pitchfork', 'Pitchfork Magazine')\n"
     ]
    }
   ],
   "source": [
    "pat = r'\\[\\[([^\\|\\]]+)\\|?([\\w\\s\\D]*?)\\]\\]'\n",
    "matches = re.findall(pat, text)\n",
    "for match in matches:\n",
    "    print match"
   ]
  },
  {
   "cell_type": "markdown",
   "metadata": {},
   "source": [
    "## Finding philosophers from Wikipedia\n",
    "We will find philosophers based on the page, \"list of philosophers\" and analyze their relation to one another"
   ]
  },
  {
   "cell_type": "code",
   "execution_count": 6,
   "metadata": {
    "collapsed": false
   },
   "outputs": [],
   "source": [
    "# Bunch of helper functions\n",
    "\n",
    "from __future__ import print_function\n",
    "import pickle\n",
    "import re\n",
    "import json\n",
    "import matplotlib.pyplot as plt\n",
    "import networkx as nx\n",
    "from collections import *\n",
    "import sys\n",
    "import io\n",
    "from os import listdir\n",
    "from os.path import isfile, join\n",
    "import urllib2 as url\n",
    "\n",
    "def safeprint(s):\n",
    "    try:\n",
    "        print(s)\n",
    "    except UnicodeEncodeError:\n",
    "        if sys.version_info >= (3,):\n",
    "            print(s.encode('utf8').decode(sys.stdout.encoding))\n",
    "        else:\n",
    "            print(s.encode('utf8'))\n",
    "\n",
    "def unpicklePhil(name):\n",
    "    path = 'phils/' + name\n",
    "    with io.open(path, 'rb') as file:\n",
    "        d = pickle.load(file)\n",
    "    picklePhil(name, d)\n",
    "    return d\n",
    "\n",
    "def picklePhil(name, data):\n",
    "    path = 'phils/' + name\n",
    "    with io.open(path, 'wb') as file:\n",
    "        pickle.dump(data, file, protocol=2)\n",
    "\n",
    "def getContent(philObject):\n",
    "\ttry: \n",
    "\t\treturn philObject['query']['pages'].itervalues().next()['revisions'][0]['*']\n",
    "\texcept KeyError:\n",
    "\t\treturn None\n",
    "\n",
    "def findWikiLinks(string):\n",
    "    pat = r'\\[\\[([^\\|\\]]+)\\|?([\\w\\s\\D]*?)\\]\\]'\n",
    "    matches = re.findall(pat, string)\n",
    "    return matches\n",
    "\n",
    "def plotLogDegree(graph):\n",
    "    d_in = Counter(G.in_degree())\n",
    "    y_in = Counter(d_in.values()).values()\n",
    "    x_in = sorted(set(d_in.values()))\n",
    "    d_out = Counter(G.out_degree())\n",
    "    y_out = Counter(d_out.values()).values()\n",
    "    x_out = sorted(set(d_out.values()))\n",
    "    plt.loglog(x_in,y_in, 'ro-') # Plot the in degree distribution\n",
    "    plt.loglog(x_out, y_out, 'bv-') # Plot the out degree distribution\n",
    "    plt.xlabel('Degree')\n",
    "    plt.ylabel('Number of nodes')\n",
    "    plt.legend(['In degree', 'Out degree'])\n",
    "    plt.legend()\n",
    "    plt.show()"
   ]
  },
  {
   "cell_type": "markdown",
   "metadata": {},
   "source": [
    "Downloading these philosophers takes forever, so let's make sure we only download them once. It still seems like it's downloading some every time, so take a look at that function again when there's time."
   ]
  },
  {
   "cell_type": "code",
   "execution_count": 4,
   "metadata": {
    "collapsed": false
   },
   "outputs": [
    {
     "name": "stdout",
     "output_type": "stream",
     "text": [
      "Length of list of aestheticians:129\n",
      "Length of list of epistemologists:133\n",
      "Length of list of ethicists:303\n",
      "Length of list of logicians:289\n",
      "Length of list of metaphysicians:178\n",
      "Length of list of social and political philosophers:368\n",
      "FetchingAndrea%20Bonom%C3%AC\n",
      "FetchingClaude%20Adrien%20Helv%C3%A9tius\n",
      "FetchingAnt%C3%B3nio%20Castanheira%20Neves\n",
      "FetchingJean-Fran%C3%A7ois%20Lyotard\n",
      "FetchingStanis%C5%82aw%20Le%C5%9Bniewski\n",
      "FetchingSlavoj%20%C5%BDi%C5%BEek\n",
      "FetchingJan%20%C5%81ukasiewicz\n",
      "FetchingMartin%20Luther%20King%2C%20Jr.\n",
      "FetchingGy%C3%B6rgy%20Luk%C3%A1cs\n",
      "FetchingNiccol%C3%B2%20Machiavelli\n",
      "FetchingYamaga%20Sok%C5%8D\n",
      "FetchingHans%20K%C3%B6chler\n",
      "Fetching%C4%B0oanna%20Ku%C3%A7uradi\n",
      "FetchingHorace%20Romano%20Harr%C3%A9\n",
      "Fetching%C3%89tienne%20de%20La%20Bo%C3%A9tie\n",
      "FetchingClaude%20L%C3%A9vi-Strauss\n",
      "FetchingPer%20Martin-L%C3%B6f\n",
      "FetchingLaurence%20BonJour\n",
      "FetchingTadeusz%20Kotarbi%C5%84ski\n",
      "FetchingRoland%20Fra%C3%AFss%C3%A9\n",
      "Fetching%C3%89mile%20Durkheim\n",
      "FetchingOliver%20Wendell%20Holmes%2C%20Jr.\n",
      "FetchingPierre-Andr%C3%A9%20Taguieff\n",
      "FetchingNy%C4%81ya%20S%C5%ABtras\n",
      "FetchingTh%C3%A9odore%20Simon%20Jouffroy\n",
      "FetchingRen%C3%A9%20Descartes\n",
      "FetchingDign%C4%81ga\n",
      "FetchingPaul%20H%C3%A4berlin\n",
      "Fetching%C3%9Eorsteinn%20Gylfason\n",
      "FetchingJ%C3%B3zef%20Maria%20Boche%C5%84ski\n",
      "FetchingFran%C3%A7ois%20Hemsterhuis\n",
      "FetchingAlija%20Izetbegovi%C4%87\n",
      "FetchingKurt%20Sch%C3%BCtte\n",
      "FetchingJoseph%20Mar%C3%A9chal\n",
      "FetchingPierre%20Ab%C3%A9lard\n",
      "FetchingJacques%20Ranci%C3%A8re\n",
      "FetchingMario%20Kopi%C4%87\n",
      "FetchingLeopold%20L%C3%B6wenheim\n",
      "FetchingHans%20K%C3%BCng\n",
      "FetchingStanis%C5%82aw%20Ja%C5%9Bkowski\n",
      "FetchingIt%C5%8D%20Jinsai\n",
      "FetchingFred%20Poch%C3%A9\n",
      "FetchingConstantin%20R%C4%83dulescu-Motru\n",
      "FetchingBjarni%20J%C3%B3nsson\n",
      "FetchingBah%C3%A1%27u%27ll%C3%A1h\n",
      "FetchingAdam%20M%C3%BCller\n",
      "FetchingRada%20Ivekovi%C4%87\n",
      "FetchingMioara%20Mugur-Sch%C3%A4chter\n",
      "FetchingMihailo%20Markovi%C4%87\n",
      "FetchingMartin%20L%C3%B6b\n",
      "FetchingOgy%C5%AB%20Sorai\n",
      "FetchingJerzy%20%C5%81o%C5%9B\n",
      "FetchingPetr%20H%C3%A1jek\n",
      "FetchingS%C3%B8ren%20Kierkegaard\n",
      "FetchingJustus%20M%C3%B6ser\n",
      "FetchingPavel%20Tich%C3%BD\n",
      "FetchingTony%20Honor%C3%A9\n",
      "FetchingFrancisco%20Su%C3%A1rez\n",
      "FetchingJean-Yves%20B%C3%A9ziau\n",
      "FetchingKurt%20G%C3%B6del\n",
      "FetchingMoses%20Sch%C3%B6nfinkel\n",
      "FetchingF%C3%A9lix%20Guattari\n",
      "FetchingLennart%20%C3%85qvist\n",
      "FetchingAndr%C3%A9%20Malraux\n",
      "FetchingJ%C3%BCrgen%20Habermas\n",
      "FetchingYves%20Marie%20Andr%C3%A9\n",
      "FetchingErnst%20Schr%C3%B6der\n",
      "FetchingTadeusz%20Cze%C5%BCowski\n",
      "FetchingAdolph%20St%C3%B6hr\n",
      "FetchingDaniel%20Gu%C3%A9rin\n",
      "FetchingMilovan%20%C4%90ilas\n",
      "FetchingIvan%20Svit%C3%A1k\n",
      "FetchingLorenzo%20Pe%C3%B1a\n",
      "FetchingMoj%C5%BCesz%20Presburger\n"
     ]
    },
    {
     "name": "stderr",
     "output_type": "stream",
     "text": [
      "C:\\Python27\\Lib\\site-packages\\ipykernel\\__main__.py:48: UnicodeWarning: Unicode equal comparison failed to convert both arguments to Unicode - interpreting them as being unequal\n"
     ]
    }
   ],
   "source": [
    "# First get the lists of different philophers\n",
    "branches = [\"List_of_aestheticians\",\"List_of_epistemologists\",\"List_of_ethicists\",\"List_of_logicians\",\"List_of_metaphysicians\",\"List_of_social_and_political_philosophers\"]\n",
    "endpoint = 'https://en.wikipedia.org/w/api.php'\n",
    "action = 'query'\n",
    "pllimit = 500\n",
    "prop = 'links'\n",
    "branchData = []\n",
    "\n",
    "# Download the list of philosophers if we did not already save them\n",
    "if not isfile('phillist.txt'):\n",
    "    for branch in branches:\n",
    "        title = branch\n",
    "        data = \"action={}&titles={}&prop={}&pllimit={}&format=json&continue=\".format(action,title,prop, pllimit)\n",
    "        u = url.urlopen(endpoint, data)\n",
    "        data = json.loads(u.readlines()[0])\n",
    "        branchData.append(data)\n",
    "    with io.open('phillist.txt', 'wb') as file:\n",
    "        pickle.dump(branchData, file, protocol=2)\n",
    "else:\n",
    "    with io.open('phillist.txt', 'rb') as file:\n",
    "        branchData = pickle.load(file)\n",
    "\n",
    "# Remove any titles that have words with non-capital letters that are not 'of', 'von' or 'de' and store the philo\n",
    "# -sophers in a list of tuples instead\n",
    "p = []\n",
    "regFilter = r'(?!^of$)(?!^von$)(?!^de$)^[a-z]+|Wiki|[\\:\\\\\\/]'\n",
    "for i in range(0, len(branchData)):\n",
    "    key = branchData[i]['query']['pages'].itervalues().next()['title']\n",
    "    p.append((key, []))\n",
    "    links = branchData[i]['query']['pages'].itervalues().next()['links']\n",
    "    for link in links:\n",
    "        matches = [re.search(regFilter, word) for word in link['title'].split(\" \")]\n",
    "        if not any(matches):\n",
    "            p[i][1].append(link['title'])\n",
    "\n",
    "# Find number of branchData in different branches\n",
    "for branch in p:\n",
    "    safeprint(\"Length of {}:{}\".format(branch[0].lower(), len(branch[1])))\n",
    "\n",
    "philSet = set()\n",
    "for i in range(0, len(p)):\n",
    "    s = set(p[i][1])\n",
    "    philSet = philSet.union(s)\n",
    "\n",
    "# Find the ones we've already downloaded\n",
    "onlyfiles = [ f for f in listdir('./phils') if isfile(join('./phils',f)) ]\n",
    "# Fetch each philosopher\n",
    "uniquePhils = list(philSet.difference(set(onlyfiles)))\n",
    "prop = 'revisions'\n",
    "rvprop = 'content'\n",
    "for i in range(0, len(uniquePhils)):\n",
    "    title = url.quote(uniquePhils[i].encode('utf-8'))\n",
    "    safeprint(\"Fetching\" + title)\n",
    "    data = \"action={}&titles={}&prop={}&rvprop={}&format=json&continue=\".format(action,title,prop, rvprop)\n",
    "    u = url.urlopen(endpoint, data)\n",
    "    wikiData = json.loads(u.readlines()[0])\n",
    "    picklePhil(uniquePhils[i], wikiData)"
   ]
  },
  {
   "cell_type": "markdown",
   "metadata": {},
   "source": [
    "Now we construct the network of philosophers. This takes some time as well, so maybe consider pickling the graph."
   ]
  },
  {
   "cell_type": "code",
   "execution_count": null,
   "metadata": {
    "collapsed": false
   },
   "outputs": [],
   "source": [
    "# Load in all the philosophers\n",
    "phils = [ f for f in listdir('./phils') if isfile(join('./phils',f)) ]\n",
    "\n",
    "G = nx.DiGraph()\n",
    "\n",
    "# Create a node for each philosopher\n",
    "[G.add_node(phil) for phil in phils]\n",
    "\n",
    "for phil in phils:\n",
    "\tphilObject = unpicklePhil(phil)\n",
    "\tphilContent = getContent(philObject)\n",
    "\tif philContent:\n",
    "\t\tlinks = findWikiLinks(philContent)\n",
    "\t\tfor link in links:\n",
    "\t\t\tif link[0] in phils:\n",
    "\t\t\t\tG.add_edge(phil, link[0])\n"
   ]
  },
  {
   "cell_type": "markdown",
   "metadata": {},
   "source": [
    "Find the network hubs."
   ]
  },
  {
   "cell_type": "code",
   "execution_count": 10,
   "metadata": {
    "collapsed": false
   },
   "outputs": [
    {
     "name": "stdout",
     "output_type": "stream",
     "text": [
      "[('Immanuel Kant', 180), ('Aristotle', 176), ('Plato', 142), ('Bertrand Russell', 119), ('Karl Marx', 110), ('David Hume', 93), ('Philosophy', 90), ('Friedrich Nietzsche', 87), ('John Locke', 85), ('Metaphysics', 84)]\n",
      "[('Philosophy', 108), ('Metaphysics', 60), ('Georg Wilhelm Friedrich Hegel', 55), ('Ontology', 54), ('Libertarianism', 49), ('Immanuel Kant', 49), ('Bertrand Russell', 48), ('David Hume', 47), ('Truth', 47), ('Friedrich Nietzsche', 46)]\n"
     ]
    }
   ],
   "source": [
    "# Find the top 10 linked to philosophers\n",
    "d_in = Counter(G.in_degree())\n",
    "d_out = Counter(G.out_degree())\n",
    "print(d_in.most_common(10))\n",
    "print(d_out.most_common(10))"
   ]
  },
  {
   "cell_type": "markdown",
   "metadata": {},
   "source": [
    "It seems as though particularly the out distribution will be polluted by philosophical concepts still being in the mix. Maybe remove them using the category keywords."
   ]
  },
  {
   "cell_type": "code",
   "execution_count": 9,
   "metadata": {
    "collapsed": false
   },
   "outputs": [
    {
     "data": {
      "image/png": "[encoded data removed]",
      "text/plain": [
       "<matplotlib.figure.Figure at 0x5f4ca30>"
      ]
     },
     "metadata": {},
     "output_type": "display_data"
    }
   ],
   "source": [
    "%matplotlib inline\n",
    "plotLogDegree(G)"
   ]
  },
  {
   "cell_type": "markdown",
   "metadata": {},
   "source": [
    "The above looks like it's a scale free network due to the log linear nature which indicates a large number of hubs. Since the philosophers can be seen as a social network I would also expect this, but it does seem as though the distribution tapers off a bit faster than normal. For some reason I was also expecting there to be bigger difference on the in and out distributions, but this is not apparent. "
   ]
  }
 ],
 "metadata": {
  "kernelspec": {
   "display_name": "Python 2",
   "language": "python",
   "name": "python2"
  },
  "language_info": {
   "codemirror_mode": {
    "name": "ipython",
    "version": 2
   },
   "file_extension": ".py",
   "mimetype": "text/x-python",
   "name": "python",
   "nbconvert_exporter": "python",
   "pygments_lexer": "ipython2",
   "version": "2.7.6"
  }
 },
 "nbformat": 4,
 "nbformat_minor": 0
}
